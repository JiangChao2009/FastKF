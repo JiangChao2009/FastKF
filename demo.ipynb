{
 "cells": [
  {
   "cell_type": "code",
   "execution_count": 92,
   "metadata": {},
   "outputs": [],
   "source": [
    "import numpy as np\n",
    "import matplotlib.pyplot as plt\n",
    "from imp import reload\n",
    "\n",
    "import fast_kalman"
   ]
  },
  {
   "cell_type": "code",
   "execution_count": 35,
   "metadata": {},
   "outputs": [],
   "source": [
    "#load data\n",
    "y = np.load(\"data.npy\")"
   ]
  },
  {
   "cell_type": "code",
   "execution_count": 118,
   "metadata": {},
   "outputs": [
    {
     "name": "stdout",
     "output_type": "stream",
     "text": [
      "iter 0\n",
      "iter 5\n",
      "iter 10\n",
      "iter 15\n",
      "iter 20\n",
      "iter 25\n",
      "iter 30\n",
      "iter 35\n",
      "iter 40\n",
      "iter 45\n",
      "iter 50\n",
      "iter 55\n",
      "iter 60\n",
      "iter 65\n",
      "iter 70\n",
      "iter 75\n",
      "iter 80\n",
      "iter 85\n",
      "iter 90\n",
      "iter 95\n",
      "iter 100\n",
      "iter 105\n",
      "iter 110\n",
      "iter 115\n",
      "iter 120\n",
      "iter 125\n",
      "iter 130\n",
      "iter 135\n",
      "iter 140\n",
      "iter 145\n",
      "iter 150\n",
      "iter 155\n",
      "iter 160\n",
      "iter 165\n",
      "iter 170\n",
      "iter 175\n",
      "iter 180\n",
      "iter 185\n",
      "iter 190\n",
      "iter 195\n",
      "iter 200\n"
     ]
    }
   ],
   "source": [
    "reload(fast_kalman)\n",
    "\n",
    "y1, y2 = np.copy(y[:2500]), np.copy(y[2500:3000])\n",
    "\n",
    "kf = fast_kalman.KalmanFilter()\n",
    "kf.fit([y1, y2], latent_dim=2, n_iter=200, print_interval=5, ss_eps=1e-8)\n",
    "ll_vals = kf.ll_vals\n",
    "\n",
    "#kf.fit([y1, y2, y3], latent_dim=2, n_iter=300, print_interval=5, ss_eps=-1)\n",
    "#ll_vals_2 = kf.ll_vals"
   ]
  },
  {
   "cell_type": "code",
   "execution_count": 117,
   "metadata": {},
   "outputs": [
    {
     "data": {
      "image/png": "[encoded data removed]",
      "text/plain": [
       "<Figure size 432x288 with 1 Axes>"
      ]
     },
     "metadata": {
      "needs_background": "light"
     },
     "output_type": "display_data"
    }
   ],
   "source": [
    "plt.plot(kf.ll_vals)\n",
    "plt.show()\n"
   ]
  },
  {
   "cell_type": "code",
   "execution_count": 113,
   "metadata": {},
   "outputs": [],
   "source": [
    "x_hat = kf.transform(y)"
   ]
  }
 ],
 "metadata": {
  "kernelspec": {
   "display_name": "Python 3",
   "language": "python",
   "name": "python3"
  },
  "language_info": {
   "codemirror_mode": {
    "name": "ipython",
    "version": 3
   },
   "file_extension": ".py",
   "mimetype": "text/x-python",
   "name": "python",
   "nbconvert_exporter": "python",
   "pygments_lexer": "ipython3",
   "version": "3.7.2"
  }
 },
 "nbformat": 4,
 "nbformat_minor": 2
}
