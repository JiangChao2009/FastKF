{
 "cells": [
  {
   "cell_type": "code",
   "execution_count": 92,
   "metadata": {},
   "outputs": [],
   "source": [
    "import numpy as np\n",
    "import matplotlib.pyplot as plt\n",
    "from imp import reload\n",
    "\n",
    "import fast_kalman"
   ]
  },
  {
   "cell_type": "code",
   "execution_count": 35,
   "metadata": {},
   "outputs": [],
   "source": [
    "#load data\n",
    "y = np.load(\"data.npy\")"
   ]
  },
  {
   "cell_type": "code",
   "execution_count": 107,
   "metadata": {},
   "outputs": [
    {
     "name": "stdout",
     "output_type": "stream",
     "text": [
      "iter 0\n",
      "iter 5\n",
      "iter 10\n",
      "iter 15\n",
      "iter 20\n",
      "iter 25\n",
      "iter 30\n",
      "iter 35\n",
      "iter 40\n",
      "iter 45\n",
      "iter 50\n",
      "iter 55\n",
      "iter 60\n",
      "iter 65\n",
      "iter 70\n",
      "iter 75\n",
      "iter 80\n",
      "iter 85\n",
      "iter 90\n",
      "iter 95\n",
      "iter 100\n",
      "iter 105\n",
      "iter 110\n",
      "iter 115\n",
      "iter 120\n",
      "iter 125\n",
      "iter 130\n",
      "iter 135\n",
      "iter 140\n",
      "iter 145\n",
      "iter 150\n",
      "iter 155\n",
      "iter 160\n",
      "iter 165\n",
      "iter 170\n",
      "iter 175\n",
      "iter 180\n",
      "iter 185\n",
      "iter 190\n",
      "iter 195\n",
      "iter 200\n",
      "iter 205\n",
      "iter 210\n",
      "iter 215\n",
      "iter 220\n",
      "iter 225\n",
      "iter 230\n",
      "iter 235\n",
      "iter 240\n",
      "iter 245\n",
      "iter 250\n",
      "iter 255\n",
      "iter 260\n",
      "iter 265\n",
      "iter 270\n",
      "iter 275\n",
      "iter 280\n",
      "iter 285\n",
      "iter 290\n",
      "iter 295\n",
      "iter 300\n",
      "iter 305\n",
      "iter 310\n",
      "iter 315\n",
      "iter 320\n",
      "iter 325\n",
      "iter 330\n",
      "iter 335\n",
      "iter 340\n",
      "iter 345\n",
      "iter 350\n",
      "iter 355\n",
      "iter 360\n",
      "iter 365\n",
      "iter 370\n",
      "iter 375\n",
      "iter 380\n",
      "iter 385\n",
      "iter 390\n",
      "iter 395\n",
      "iter 400\n",
      "iter 405\n",
      "iter 410\n",
      "iter 415\n",
      "iter 420\n",
      "iter 425\n",
      "iter 430\n",
      "iter 435\n",
      "iter 440\n",
      "iter 445\n",
      "iter 450\n",
      "iter 455\n",
      "iter 460\n",
      "iter 465\n",
      "iter 470\n",
      "iter 475\n",
      "iter 480\n",
      "iter 485\n",
      "iter 490\n",
      "iter 495\n",
      "iter 500\n",
      "iter 505\n",
      "iter 510\n",
      "iter 515\n",
      "iter 520\n",
      "iter 525\n",
      "iter 530\n",
      "iter 535\n",
      "iter 540\n",
      "iter 545\n",
      "iter 550\n",
      "iter 555\n",
      "iter 560\n",
      "iter 565\n",
      "iter 570\n",
      "iter 575\n",
      "iter 580\n",
      "iter 585\n",
      "iter 590\n",
      "iter 595\n",
      "iter 600\n",
      "iter 605\n",
      "iter 610\n",
      "iter 615\n",
      "iter 620\n",
      "iter 625\n",
      "iter 630\n",
      "iter 635\n",
      "iter 640\n",
      "iter 645\n",
      "iter 650\n",
      "iter 655\n",
      "iter 660\n",
      "iter 665\n",
      "iter 670\n",
      "iter 675\n",
      "iter 680\n",
      "iter 685\n",
      "iter 690\n",
      "iter 695\n",
      "iter 700\n",
      "iter 705\n",
      "iter 710\n",
      "iter 715\n",
      "iter 720\n",
      "iter 725\n",
      "iter 730\n",
      "iter 735\n",
      "iter 740\n",
      "iter 745\n",
      "iter 750\n",
      "iter 755\n",
      "iter 760\n",
      "iter 765\n",
      "iter 770\n",
      "iter 775\n",
      "iter 780\n",
      "iter 785\n",
      "iter 790\n",
      "iter 795\n",
      "iter 800\n",
      "iter 805\n",
      "iter 810\n",
      "iter 815\n",
      "iter 820\n",
      "iter 825\n",
      "iter 830\n",
      "iter 835\n",
      "iter 840\n",
      "iter 845\n",
      "iter 850\n",
      "iter 855\n",
      "iter 860\n",
      "iter 865\n",
      "iter 870\n",
      "iter 875\n",
      "iter 880\n",
      "iter 885\n",
      "iter 890\n",
      "iter 895\n",
      "iter 900\n",
      "iter 905\n",
      "iter 910\n",
      "iter 915\n",
      "iter 920\n",
      "iter 925\n",
      "iter 930\n",
      "iter 935\n",
      "iter 940\n",
      "iter 945\n",
      "iter 950\n",
      "iter 955\n",
      "iter 960\n",
      "iter 965\n",
      "iter 970\n",
      "iter 975\n",
      "iter 980\n",
      "iter 985\n",
      "iter 990\n",
      "iter 995\n",
      "iter 1000\n"
     ]
    }
   ],
   "source": [
    "reload(fast_kalman)\n",
    "\n",
    "y1, y2 = np.copy(y[:500]), np.copy(y[2000:2200])\n",
    "y1 -= y1.mean(axis=0)\n",
    "y2 -= y2.mean(axis=0)\n",
    "\n",
    "kf = fast_kalman.KalmanFilter()\n",
    "kf.fit([y1, y2], latent_dim=2, n_iter=200, print_interval=5, ss_eps=1e-8)\n",
    "ll_vals = kf.ll_vals\n",
    "\n",
    "#kf.fit([y1, y2, y3], latent_dim=2, n_iter=300, print_interval=5, ss_eps=-1)\n",
    "#ll_vals_2 = kf.ll_vals"
   ]
  },
  {
   "cell_type": "code",
   "execution_count": 108,
   "metadata": {},
   "outputs": [
    {
     "data": {
      "image/png": "[encoded data removed]",
      "text/plain": [
       "<Figure size 432x288 with 1 Axes>"
      ]
     },
     "metadata": {
      "needs_background": "light"
     },
     "output_type": "display_data"
    }
   ],
   "source": [
    "plt.plot(kf.ll_vals)\n",
    "plt.show()\n"
   ]
  },
  {
   "cell_type": "code",
   "execution_count": 113,
   "metadata": {},
   "outputs": [],
   "source": [
    "x_hat = kf.transform(y)"
   ]
  },
  {
   "cell_type": "code",
   "execution_count": 114,
   "metadata": {},
   "outputs": [
    {
     "data": {
      "text/plain": [
       "[<matplotlib.lines.Line2D at 0x1a1ba75f60>]"
      ]
     },
     "execution_count": 114,
     "metadata": {},
     "output_type": "execute_result"
    },
    {
     "data": {
      "image/png": "[encoded data removed]",
      "text/plain": [
       "<Figure size 432x288 with 1 Axes>"
      ]
     },
     "metadata": {
      "needs_background": "light"
     },
     "output_type": "display_data"
    }
   ],
   "source": [
    "plt.plot(x_hat[:100, 0], x_hat[:100, 1])"
   ]
  },
  {
   "cell_type": "code",
   "execution_count": 115,
   "metadata": {},
   "outputs": [
    {
     "data": {
      "text/plain": [
       "<matplotlib.collections.PathCollection at 0x1a1b9f4c50>"
      ]
     },
     "execution_count": 115,
     "metadata": {},
     "output_type": "execute_result"
    },
    {
     "data": {
      "image/png": "[encoded data removed]",
      "text/plain": [
       "<Figure size 432x288 with 1 Axes>"
      ]
     },
     "metadata": {
      "needs_background": "light"
     },
     "output_type": "display_data"
    }
   ],
   "source": [
    "A = kf.A\n",
    "evals = np.linalg.eigvals(A)\n",
    "plt.scatter(evals.real, evals.imag)\n",
    "#plt.xlim([-1, 1])\n",
    "#plt.ylim(-1, 1)"
   ]
  },
  {
   "cell_type": "code",
   "execution_count": 76,
   "metadata": {},
   "outputs": [
    {
     "data": {
      "text/plain": [
       "(15, 2)"
      ]
     },
     "execution_count": 76,
     "metadata": {},
     "output_type": "execute_result"
    }
   ],
   "source": [
    "a = np.random.rand(5, 3, 2)\n",
    "b = np.concatenate(a)\n",
    "b.shape"
   ]
  },
  {
   "cell_type": "code",
   "execution_count": 28,
   "metadata": {},
   "outputs": [
    {
     "data": {
      "text/plain": [
       "array([[[[0.18499543]],\n",
       "\n",
       "        [[0.29804096]],\n",
       "\n",
       "        [[0.15163527]]],\n",
       "\n",
       "\n",
       "       [[[0.7089984 ]],\n",
       "\n",
       "        [[0.39917559]],\n",
       "\n",
       "        [[0.66555011]]],\n",
       "\n",
       "\n",
       "       [[[0.18433084]],\n",
       "\n",
       "        [[0.14395823]],\n",
       "\n",
       "        [[0.12309355]]]])"
      ]
     },
     "execution_count": 28,
     "metadata": {},
     "output_type": "execute_result"
    }
   ],
   "source": [
    "a"
   ]
  },
  {
   "cell_type": "code",
   "execution_count": 31,
   "metadata": {},
   "outputs": [
    {
     "data": {
      "text/plain": [
       "True"
      ]
     },
     "execution_count": 31,
     "metadata": {},
     "output_type": "execute_result"
    }
   ],
   "source": [
    "a = [1,2,3]\n",
    "type(a) is list"
   ]
  },
  {
   "cell_type": "code",
   "execution_count": null,
   "metadata": {},
   "outputs": [],
   "source": []
  }
 ],
 "metadata": {
  "kernelspec": {
   "display_name": "Python 3",
   "language": "python",
   "name": "python3"
  },
  "language_info": {
   "codemirror_mode": {
    "name": "ipython",
    "version": 3
   },
   "file_extension": ".py",
   "mimetype": "text/x-python",
   "name": "python",
   "nbconvert_exporter": "python",
   "pygments_lexer": "ipython3",
   "version": "3.7.2"
  }
 },
 "nbformat": 4,
 "nbformat_minor": 2
}
